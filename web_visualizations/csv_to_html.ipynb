{
 "cells": [
  {
   "cell_type": "code",
   "execution_count": 3,
   "metadata": {},
   "outputs": [],
   "source": [
    "import pandas as pd\n",
    "import os\n",
    "\n",
    "path = \"Resources/cities.csv\"\n",
    "\n",
    "data = pd.read_csv(path)\n",
    "\n",
    "data = data.drop(columns=[\"City_ID\"])\n",
    "\n",
    "html = pd.DataFrame.to_html(data)\n",
    "\n",
    "outfile = os.path.join(\"cities_data.html\")\n",
    "with open(outfile, 'w') as cities:\n",
    "    textwriter = cities.write\n",
    "    # Writes out html\n",
    "    textwriter(html)\n",
    "\n",
    "\n"
   ]
  },
  {
   "cell_type": "code",
   "execution_count": null,
   "metadata": {},
   "outputs": [],
   "source": []
  }
 ],
 "metadata": {
  "kernelspec": {
   "display_name": "Python 3",
   "language": "python",
   "name": "python3"
  },
  "language_info": {
   "codemirror_mode": {
    "name": "ipython",
    "version": 3
   },
   "file_extension": ".py",
   "mimetype": "text/x-python",
   "name": "python",
   "nbconvert_exporter": "python",
   "pygments_lexer": "ipython3",
   "version": "3.7.3"
  }
 },
 "nbformat": 4,
 "nbformat_minor": 2
}
